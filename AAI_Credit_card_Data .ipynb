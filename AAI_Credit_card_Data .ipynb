{
 "cells": [
  {
   "cell_type": "markdown",
   "id": "d7f75673",
   "metadata": {},
   "source": [
    "### Importing packages"
   ]
  },
  {
   "cell_type": "code",
   "execution_count": 354,
   "id": "1b5a63bd",
   "metadata": {},
   "outputs": [],
   "source": [
    "import pandas as pd\n",
    "import numpy as np\n",
    "import matplotlib.pyplot as plt\n",
    "import seaborn as sns\n",
    "import datetime"
   ]
  },
  {
   "cell_type": "code",
   "execution_count": 226,
   "id": "6631ea5e",
   "metadata": {},
   "outputs": [
    {
     "name": "stdout",
     "output_type": "stream",
     "text": [
      "Requirement already satisfied: openpyxl in /opt/anaconda3/lib/python3.8/site-packages (3.0.7)\n",
      "Requirement already satisfied: et-xmlfile in /opt/anaconda3/lib/python3.8/site-packages (from openpyxl) (1.0.1)\n",
      "Note: you may need to restart the kernel to use updated packages.\n"
     ]
    }
   ],
   "source": [
    "pip install openpyxl"
   ]
  },
  {
   "cell_type": "markdown",
   "id": "7b307701",
   "metadata": {},
   "source": [
    "### Reading The Data"
   ]
  },
  {
   "cell_type": "code",
   "execution_count": 322,
   "id": "59d56c9f",
   "metadata": {},
   "outputs": [],
   "source": [
    "df1 = pd.read_excel('Credit Card Data.xlsx','Customer Details')\n",
    "df2 = pd.read_excel('Credit Card Data.xlsx','Spend')\n",
    "df3 = pd.read_excel('Credit Card Data.xlsx','Repayment')"
   ]
  },
  {
   "cell_type": "code",
   "execution_count": 323,
   "id": "05590166",
   "metadata": {},
   "outputs": [
    {
     "data": {
      "text/html": [
       "<div>\n",
       "<style scoped>\n",
       "    .dataframe tbody tr th:only-of-type {\n",
       "        vertical-align: middle;\n",
       "    }\n",
       "\n",
       "    .dataframe tbody tr th {\n",
       "        vertical-align: top;\n",
       "    }\n",
       "\n",
       "    .dataframe thead th {\n",
       "        text-align: right;\n",
       "    }\n",
       "</style>\n",
       "<table border=\"1\" class=\"dataframe\">\n",
       "  <thead>\n",
       "    <tr style=\"text-align: right;\">\n",
       "      <th></th>\n",
       "      <th>No</th>\n",
       "      <th>Customer</th>\n",
       "      <th>Age</th>\n",
       "      <th>City</th>\n",
       "      <th>Product</th>\n",
       "      <th>Limit</th>\n",
       "      <th>Company</th>\n",
       "      <th>Segment</th>\n",
       "    </tr>\n",
       "  </thead>\n",
       "  <tbody>\n",
       "    <tr>\n",
       "      <th>0</th>\n",
       "      <td>1</td>\n",
       "      <td>A1</td>\n",
       "      <td>47</td>\n",
       "      <td>BANGALORE</td>\n",
       "      <td>Gold</td>\n",
       "      <td>1500000</td>\n",
       "      <td>C1</td>\n",
       "      <td>Self Employed</td>\n",
       "    </tr>\n",
       "    <tr>\n",
       "      <th>1</th>\n",
       "      <td>2</td>\n",
       "      <td>A2</td>\n",
       "      <td>56</td>\n",
       "      <td>CALCUTTA</td>\n",
       "      <td>Silver</td>\n",
       "      <td>300000</td>\n",
       "      <td>C2</td>\n",
       "      <td>Salaried_MNC</td>\n",
       "    </tr>\n",
       "    <tr>\n",
       "      <th>2</th>\n",
       "      <td>3</td>\n",
       "      <td>A3</td>\n",
       "      <td>30</td>\n",
       "      <td>COCHIN</td>\n",
       "      <td>Platimum</td>\n",
       "      <td>540000</td>\n",
       "      <td>C3</td>\n",
       "      <td>Salaried_Pvt</td>\n",
       "    </tr>\n",
       "    <tr>\n",
       "      <th>3</th>\n",
       "      <td>4</td>\n",
       "      <td>A4</td>\n",
       "      <td>22</td>\n",
       "      <td>BOMBAY</td>\n",
       "      <td>Platimum</td>\n",
       "      <td>840084</td>\n",
       "      <td>C4</td>\n",
       "      <td>Govt</td>\n",
       "    </tr>\n",
       "    <tr>\n",
       "      <th>4</th>\n",
       "      <td>5</td>\n",
       "      <td>A5</td>\n",
       "      <td>59</td>\n",
       "      <td>BANGALORE</td>\n",
       "      <td>Platimum</td>\n",
       "      <td>420084</td>\n",
       "      <td>C5</td>\n",
       "      <td>Normal Salary</td>\n",
       "    </tr>\n",
       "  </tbody>\n",
       "</table>\n",
       "</div>"
      ],
      "text/plain": [
       "   No Customer  Age       City   Product    Limit Company        Segment\n",
       "0   1       A1   47  BANGALORE      Gold  1500000      C1  Self Employed\n",
       "1   2       A2   56   CALCUTTA    Silver   300000      C2   Salaried_MNC\n",
       "2   3       A3   30     COCHIN  Platimum   540000      C3   Salaried_Pvt\n",
       "3   4       A4   22     BOMBAY  Platimum   840084      C4           Govt\n",
       "4   5       A5   59  BANGALORE  Platimum   420084      C5  Normal Salary"
      ]
     },
     "execution_count": 323,
     "metadata": {},
     "output_type": "execute_result"
    }
   ],
   "source": [
    "df1.head()"
   ]
  },
  {
   "cell_type": "code",
   "execution_count": 277,
   "id": "f74d99c4",
   "metadata": {},
   "outputs": [],
   "source": [
    "df2.drop('Unnamed: 5', axis=1,inplace=True) # was getting unnamed column, so dropping it."
   ]
  },
  {
   "cell_type": "code",
   "execution_count": 278,
   "id": "cec84f4d",
   "metadata": {},
   "outputs": [
    {
     "data": {
      "text/html": [
       "<div>\n",
       "<style scoped>\n",
       "    .dataframe tbody tr th:only-of-type {\n",
       "        vertical-align: middle;\n",
       "    }\n",
       "\n",
       "    .dataframe tbody tr th {\n",
       "        vertical-align: top;\n",
       "    }\n",
       "\n",
       "    .dataframe thead th {\n",
       "        text-align: right;\n",
       "    }\n",
       "</style>\n",
       "<table border=\"1\" class=\"dataframe\">\n",
       "  <thead>\n",
       "    <tr style=\"text-align: right;\">\n",
       "      <th></th>\n",
       "      <th>Sl No:</th>\n",
       "      <th>Customer</th>\n",
       "      <th>Month</th>\n",
       "      <th>Type</th>\n",
       "      <th>Amount</th>\n",
       "    </tr>\n",
       "  </thead>\n",
       "  <tbody>\n",
       "    <tr>\n",
       "      <th>0</th>\n",
       "      <td>1</td>\n",
       "      <td>A1</td>\n",
       "      <td>2004-01-12</td>\n",
       "      <td>JEWELLERY</td>\n",
       "      <td>344054.980813</td>\n",
       "    </tr>\n",
       "    <tr>\n",
       "      <th>1</th>\n",
       "      <td>2</td>\n",
       "      <td>A1</td>\n",
       "      <td>2004-01-03</td>\n",
       "      <td>PETRO</td>\n",
       "      <td>935.495203</td>\n",
       "    </tr>\n",
       "    <tr>\n",
       "      <th>2</th>\n",
       "      <td>3</td>\n",
       "      <td>A1</td>\n",
       "      <td>2004-01-15</td>\n",
       "      <td>CLOTHES</td>\n",
       "      <td>8687.895474</td>\n",
       "    </tr>\n",
       "    <tr>\n",
       "      <th>3</th>\n",
       "      <td>4</td>\n",
       "      <td>A1</td>\n",
       "      <td>2004-01-25</td>\n",
       "      <td>FOOD</td>\n",
       "      <td>341.159711</td>\n",
       "    </tr>\n",
       "    <tr>\n",
       "      <th>4</th>\n",
       "      <td>5</td>\n",
       "      <td>A1</td>\n",
       "      <td>2005-01-17</td>\n",
       "      <td>CAMERA</td>\n",
       "      <td>3406.639477</td>\n",
       "    </tr>\n",
       "  </tbody>\n",
       "</table>\n",
       "</div>"
      ],
      "text/plain": [
       "   Sl No: Customer      Month       Type         Amount\n",
       "0       1       A1 2004-01-12  JEWELLERY  344054.980813\n",
       "1       2       A1 2004-01-03      PETRO     935.495203\n",
       "2       3       A1 2004-01-15    CLOTHES    8687.895474\n",
       "3       4       A1 2004-01-25       FOOD     341.159711\n",
       "4       5       A1 2005-01-17     CAMERA    3406.639477"
      ]
     },
     "execution_count": 278,
     "metadata": {},
     "output_type": "execute_result"
    }
   ],
   "source": [
    "df2.head()"
   ]
  },
  {
   "cell_type": "code",
   "execution_count": 279,
   "id": "b754462d",
   "metadata": {},
   "outputs": [
    {
     "data": {
      "text/html": [
       "<div>\n",
       "<style scoped>\n",
       "    .dataframe tbody tr th:only-of-type {\n",
       "        vertical-align: middle;\n",
       "    }\n",
       "\n",
       "    .dataframe tbody tr th {\n",
       "        vertical-align: top;\n",
       "    }\n",
       "\n",
       "    .dataframe thead th {\n",
       "        text-align: right;\n",
       "    }\n",
       "</style>\n",
       "<table border=\"1\" class=\"dataframe\">\n",
       "  <thead>\n",
       "    <tr style=\"text-align: right;\">\n",
       "      <th></th>\n",
       "      <th>SL No:</th>\n",
       "      <th>Customer</th>\n",
       "      <th>Month</th>\n",
       "      <th>Amount</th>\n",
       "    </tr>\n",
       "  </thead>\n",
       "  <tbody>\n",
       "    <tr>\n",
       "      <th>0</th>\n",
       "      <td>1</td>\n",
       "      <td>A1</td>\n",
       "      <td>2006-05-15</td>\n",
       "      <td>2.308473e+05</td>\n",
       "    </tr>\n",
       "    <tr>\n",
       "      <th>1</th>\n",
       "      <td>2</td>\n",
       "      <td>A1</td>\n",
       "      <td>2005-08-27</td>\n",
       "      <td>1.835124e+03</td>\n",
       "    </tr>\n",
       "    <tr>\n",
       "      <th>2</th>\n",
       "      <td>3</td>\n",
       "      <td>A1</td>\n",
       "      <td>2004-03-07</td>\n",
       "      <td>4.858701e+03</td>\n",
       "    </tr>\n",
       "    <tr>\n",
       "      <th>3</th>\n",
       "      <td>4</td>\n",
       "      <td>A1</td>\n",
       "      <td>2005-03-01</td>\n",
       "      <td>1.360527e+06</td>\n",
       "    </tr>\n",
       "    <tr>\n",
       "      <th>4</th>\n",
       "      <td>5</td>\n",
       "      <td>A1</td>\n",
       "      <td>2004-02-14</td>\n",
       "      <td>1.902322e+05</td>\n",
       "    </tr>\n",
       "  </tbody>\n",
       "</table>\n",
       "</div>"
      ],
      "text/plain": [
       "   SL No: Customer      Month        Amount\n",
       "0       1       A1 2006-05-15  2.308473e+05\n",
       "1       2       A1 2005-08-27  1.835124e+03\n",
       "2       3       A1 2004-03-07  4.858701e+03\n",
       "3       4       A1 2005-03-01  1.360527e+06\n",
       "4       5       A1 2004-02-14  1.902322e+05"
      ]
     },
     "execution_count": 279,
     "metadata": {},
     "output_type": "execute_result"
    }
   ],
   "source": [
    "df3.head()"
   ]
  },
  {
   "cell_type": "code",
   "execution_count": 280,
   "id": "9d761631",
   "metadata": {},
   "outputs": [],
   "source": [
    "df3.Amount = df3.Amount.round(decimals=2)"
   ]
  },
  {
   "cell_type": "code",
   "execution_count": 281,
   "id": "81dd0628",
   "metadata": {},
   "outputs": [
    {
     "data": {
      "text/html": [
       "<div>\n",
       "<style scoped>\n",
       "    .dataframe tbody tr th:only-of-type {\n",
       "        vertical-align: middle;\n",
       "    }\n",
       "\n",
       "    .dataframe tbody tr th {\n",
       "        vertical-align: top;\n",
       "    }\n",
       "\n",
       "    .dataframe thead th {\n",
       "        text-align: right;\n",
       "    }\n",
       "</style>\n",
       "<table border=\"1\" class=\"dataframe\">\n",
       "  <thead>\n",
       "    <tr style=\"text-align: right;\">\n",
       "      <th></th>\n",
       "      <th>SL No:</th>\n",
       "      <th>Customer</th>\n",
       "      <th>Month</th>\n",
       "      <th>Amount</th>\n",
       "    </tr>\n",
       "  </thead>\n",
       "  <tbody>\n",
       "    <tr>\n",
       "      <th>0</th>\n",
       "      <td>1</td>\n",
       "      <td>A1</td>\n",
       "      <td>2006-05-15</td>\n",
       "      <td>230847.25</td>\n",
       "    </tr>\n",
       "    <tr>\n",
       "      <th>1</th>\n",
       "      <td>2</td>\n",
       "      <td>A1</td>\n",
       "      <td>2005-08-27</td>\n",
       "      <td>1835.12</td>\n",
       "    </tr>\n",
       "    <tr>\n",
       "      <th>2</th>\n",
       "      <td>3</td>\n",
       "      <td>A1</td>\n",
       "      <td>2004-03-07</td>\n",
       "      <td>4858.70</td>\n",
       "    </tr>\n",
       "    <tr>\n",
       "      <th>3</th>\n",
       "      <td>4</td>\n",
       "      <td>A1</td>\n",
       "      <td>2005-03-01</td>\n",
       "      <td>1360526.91</td>\n",
       "    </tr>\n",
       "    <tr>\n",
       "      <th>4</th>\n",
       "      <td>5</td>\n",
       "      <td>A1</td>\n",
       "      <td>2004-02-14</td>\n",
       "      <td>190232.22</td>\n",
       "    </tr>\n",
       "  </tbody>\n",
       "</table>\n",
       "</div>"
      ],
      "text/plain": [
       "   SL No: Customer      Month      Amount\n",
       "0       1       A1 2006-05-15   230847.25\n",
       "1       2       A1 2005-08-27     1835.12\n",
       "2       3       A1 2004-03-07     4858.70\n",
       "3       4       A1 2005-03-01  1360526.91\n",
       "4       5       A1 2004-02-14   190232.22"
      ]
     },
     "execution_count": 281,
     "metadata": {},
     "output_type": "execute_result"
    }
   ],
   "source": [
    "df3.head()"
   ]
  },
  {
   "cell_type": "markdown",
   "id": "aea91d0e",
   "metadata": {},
   "source": [
    "### 1) Checking the data for any corrupt data, missing values, incorrect data types etc."
   ]
  },
  {
   "cell_type": "code",
   "execution_count": 231,
   "id": "a962a185",
   "metadata": {},
   "outputs": [
    {
     "data": {
      "text/plain": [
       "No          0\n",
       "Customer    0\n",
       "Age         0\n",
       "City        0\n",
       "Product     0\n",
       "Limit       0\n",
       "Company     0\n",
       "Segment     0\n",
       "dtype: int64"
      ]
     },
     "execution_count": 231,
     "metadata": {},
     "output_type": "execute_result"
    }
   ],
   "source": [
    "df1.isna().sum()"
   ]
  },
  {
   "cell_type": "code",
   "execution_count": 204,
   "id": "cfd67c7c",
   "metadata": {},
   "outputs": [
    {
     "data": {
      "text/plain": [
       "No          0\n",
       "Customer    0\n",
       "Age         0\n",
       "City        0\n",
       "Product     0\n",
       "Limit       0\n",
       "Company     0\n",
       "Segment     0\n",
       "dtype: int64"
      ]
     },
     "execution_count": 204,
     "metadata": {},
     "output_type": "execute_result"
    }
   ],
   "source": [
    "df1.isnull().sum() # Checking if any null value"
   ]
  },
  {
   "cell_type": "code",
   "execution_count": 251,
   "id": "5312c9ca",
   "metadata": {},
   "outputs": [
    {
     "data": {
      "text/plain": [
       "Sl No:      0\n",
       "Customer    0\n",
       "Month       0\n",
       "Type        0\n",
       "Amount      0\n",
       "dtype: int64"
      ]
     },
     "execution_count": 251,
     "metadata": {},
     "output_type": "execute_result"
    }
   ],
   "source": [
    "df2.isna().sum()"
   ]
  },
  {
   "cell_type": "code",
   "execution_count": 252,
   "id": "24e4ce87",
   "metadata": {},
   "outputs": [
    {
     "data": {
      "text/plain": [
       "SL No:      0\n",
       "Customer    0\n",
       "Month       4\n",
       "Amount      0\n",
       "dtype: int64"
      ]
     },
     "execution_count": 252,
     "metadata": {},
     "output_type": "execute_result"
    }
   ],
   "source": [
    "df3.isna().sum()# Repayment data is having $ null values in Amount column"
   ]
  },
  {
   "cell_type": "code",
   "execution_count": null,
   "id": "37cb2928",
   "metadata": {},
   "outputs": [],
   "source": []
  },
  {
   "cell_type": "markdown",
   "id": "92d84478",
   "metadata": {},
   "source": [
    "### 2) Makeing the following substitution:\n",
    "a. Age of credit card customer can't be less than 18. In case age is less than 18, replaceing\n",
    "it with mean of age."
   ]
  },
  {
   "cell_type": "code",
   "execution_count": 325,
   "id": "35a6012a",
   "metadata": {},
   "outputs": [
    {
     "data": {
      "text/html": [
       "<div>\n",
       "<style scoped>\n",
       "    .dataframe tbody tr th:only-of-type {\n",
       "        vertical-align: middle;\n",
       "    }\n",
       "\n",
       "    .dataframe tbody tr th {\n",
       "        vertical-align: top;\n",
       "    }\n",
       "\n",
       "    .dataframe thead th {\n",
       "        text-align: right;\n",
       "    }\n",
       "</style>\n",
       "<table border=\"1\" class=\"dataframe\">\n",
       "  <thead>\n",
       "    <tr style=\"text-align: right;\">\n",
       "      <th></th>\n",
       "      <th>No</th>\n",
       "      <th>Customer</th>\n",
       "      <th>Age</th>\n",
       "      <th>City</th>\n",
       "      <th>Product</th>\n",
       "      <th>Limit</th>\n",
       "      <th>Company</th>\n",
       "      <th>Segment</th>\n",
       "    </tr>\n",
       "  </thead>\n",
       "  <tbody>\n",
       "    <tr>\n",
       "      <th>46</th>\n",
       "      <td>47</td>\n",
       "      <td>A47</td>\n",
       "      <td>16</td>\n",
       "      <td>CHENNAI</td>\n",
       "      <td>Platimum</td>\n",
       "      <td>1380000</td>\n",
       "      <td>C9</td>\n",
       "      <td>Normal Salary</td>\n",
       "    </tr>\n",
       "    <tr>\n",
       "      <th>69</th>\n",
       "      <td>70</td>\n",
       "      <td>A70</td>\n",
       "      <td>16</td>\n",
       "      <td>BOMBAY</td>\n",
       "      <td>Platimum</td>\n",
       "      <td>420000</td>\n",
       "      <td>C32</td>\n",
       "      <td>Self Employed</td>\n",
       "    </tr>\n",
       "    <tr>\n",
       "      <th>93</th>\n",
       "      <td>94</td>\n",
       "      <td>A94</td>\n",
       "      <td>14</td>\n",
       "      <td>COCHIN</td>\n",
       "      <td>Gold</td>\n",
       "      <td>500000</td>\n",
       "      <td>C17</td>\n",
       "      <td>Govt</td>\n",
       "    </tr>\n",
       "  </tbody>\n",
       "</table>\n",
       "</div>"
      ],
      "text/plain": [
       "    No Customer  Age     City   Product    Limit Company        Segment\n",
       "46  47      A47   16  CHENNAI  Platimum  1380000      C9  Normal Salary\n",
       "69  70      A70   16   BOMBAY  Platimum   420000     C32  Self Employed\n",
       "93  94      A94   14   COCHIN      Gold   500000     C17           Govt"
      ]
     },
     "execution_count": 325,
     "metadata": {},
     "output_type": "execute_result"
    }
   ],
   "source": [
    "df1[df1['Age']<18]# checkin how many customers are below 18"
   ]
  },
  {
   "cell_type": "code",
   "execution_count": 326,
   "id": "de0483fd",
   "metadata": {},
   "outputs": [],
   "source": [
    "avg = df1.Age.mean()\n",
    "df1.Age = df1.Age.apply(lambda v: avg if v<18 else v)"
   ]
  },
  {
   "cell_type": "code",
   "execution_count": 327,
   "id": "07d3e77d",
   "metadata": {},
   "outputs": [
    {
     "data": {
      "text/html": [
       "<div>\n",
       "<style scoped>\n",
       "    .dataframe tbody tr th:only-of-type {\n",
       "        vertical-align: middle;\n",
       "    }\n",
       "\n",
       "    .dataframe tbody tr th {\n",
       "        vertical-align: top;\n",
       "    }\n",
       "\n",
       "    .dataframe thead th {\n",
       "        text-align: right;\n",
       "    }\n",
       "</style>\n",
       "<table border=\"1\" class=\"dataframe\">\n",
       "  <thead>\n",
       "    <tr style=\"text-align: right;\">\n",
       "      <th></th>\n",
       "      <th>No</th>\n",
       "      <th>Customer</th>\n",
       "      <th>Age</th>\n",
       "      <th>City</th>\n",
       "      <th>Product</th>\n",
       "      <th>Limit</th>\n",
       "      <th>Company</th>\n",
       "      <th>Segment</th>\n",
       "    </tr>\n",
       "  </thead>\n",
       "  <tbody>\n",
       "    <tr>\n",
       "      <th>95</th>\n",
       "      <td>96</td>\n",
       "      <td>A96</td>\n",
       "      <td>54.0</td>\n",
       "      <td>CHENNAI</td>\n",
       "      <td>Silver</td>\n",
       "      <td>100000</td>\n",
       "      <td>C19</td>\n",
       "      <td>Salaried_Pvt</td>\n",
       "    </tr>\n",
       "    <tr>\n",
       "      <th>96</th>\n",
       "      <td>97</td>\n",
       "      <td>A97</td>\n",
       "      <td>75.0</td>\n",
       "      <td>TRIVANDRUM</td>\n",
       "      <td>Platimum</td>\n",
       "      <td>30000</td>\n",
       "      <td>C20</td>\n",
       "      <td>Govt</td>\n",
       "    </tr>\n",
       "    <tr>\n",
       "      <th>97</th>\n",
       "      <td>98</td>\n",
       "      <td>A98</td>\n",
       "      <td>29.0</td>\n",
       "      <td>CALCUTTA</td>\n",
       "      <td>Platimum</td>\n",
       "      <td>30000</td>\n",
       "      <td>C21</td>\n",
       "      <td>Normal Salary</td>\n",
       "    </tr>\n",
       "    <tr>\n",
       "      <th>98</th>\n",
       "      <td>99</td>\n",
       "      <td>A99</td>\n",
       "      <td>59.0</td>\n",
       "      <td>CALCUTTA</td>\n",
       "      <td>Platimum</td>\n",
       "      <td>120000</td>\n",
       "      <td>C22</td>\n",
       "      <td>Self Employed</td>\n",
       "    </tr>\n",
       "    <tr>\n",
       "      <th>99</th>\n",
       "      <td>100</td>\n",
       "      <td>A100</td>\n",
       "      <td>55.0</td>\n",
       "      <td>COCHIN</td>\n",
       "      <td>Silver</td>\n",
       "      <td>100000</td>\n",
       "      <td>C5</td>\n",
       "      <td>Salaried_MNC</td>\n",
       "    </tr>\n",
       "  </tbody>\n",
       "</table>\n",
       "</div>"
      ],
      "text/plain": [
       "     No Customer   Age        City   Product   Limit Company        Segment\n",
       "95   96      A96  54.0     CHENNAI    Silver  100000     C19   Salaried_Pvt\n",
       "96   97      A97  75.0  TRIVANDRUM  Platimum   30000     C20           Govt\n",
       "97   98      A98  29.0    CALCUTTA  Platimum   30000     C21  Normal Salary\n",
       "98   99      A99  59.0    CALCUTTA  Platimum  120000     C22  Self Employed\n",
       "99  100     A100  55.0      COCHIN    Silver  100000      C5   Salaried_MNC"
      ]
     },
     "execution_count": 327,
     "metadata": {},
     "output_type": "execute_result"
    }
   ],
   "source": [
    "df1.tail()"
   ]
  },
  {
   "cell_type": "code",
   "execution_count": 328,
   "id": "9401914e",
   "metadata": {},
   "outputs": [
    {
     "data": {
      "text/html": [
       "<div>\n",
       "<style scoped>\n",
       "    .dataframe tbody tr th:only-of-type {\n",
       "        vertical-align: middle;\n",
       "    }\n",
       "\n",
       "    .dataframe tbody tr th {\n",
       "        vertical-align: top;\n",
       "    }\n",
       "\n",
       "    .dataframe thead th {\n",
       "        text-align: right;\n",
       "    }\n",
       "</style>\n",
       "<table border=\"1\" class=\"dataframe\">\n",
       "  <thead>\n",
       "    <tr style=\"text-align: right;\">\n",
       "      <th></th>\n",
       "      <th>No</th>\n",
       "      <th>Customer</th>\n",
       "      <th>Age</th>\n",
       "      <th>City</th>\n",
       "      <th>Product</th>\n",
       "      <th>Limit</th>\n",
       "      <th>Company</th>\n",
       "      <th>Segment</th>\n",
       "    </tr>\n",
       "  </thead>\n",
       "  <tbody>\n",
       "  </tbody>\n",
       "</table>\n",
       "</div>"
      ],
      "text/plain": [
       "Empty DataFrame\n",
       "Columns: [No, Customer, Age, City, Product, Limit, Company, Segment]\n",
       "Index: []"
      ]
     },
     "execution_count": 328,
     "metadata": {},
     "output_type": "execute_result"
    }
   ],
   "source": [
    "df1[df1['Age']<18] # all the below 18 age got replaced by mean"
   ]
  },
  {
   "cell_type": "markdown",
   "id": "eb55b6b5",
   "metadata": {},
   "source": [
    "### 3) Answer the following Questions:\n",
    "a. How many unique customers are there?"
   ]
  },
  {
   "cell_type": "code",
   "execution_count": 209,
   "id": "52cf6fda",
   "metadata": {},
   "outputs": [
    {
     "data": {
      "text/plain": [
       "100"
      ]
     },
     "execution_count": 209,
     "metadata": {},
     "output_type": "execute_result"
    }
   ],
   "source": [
    "df1['Customer'].nunique() #checking number of unique customers"
   ]
  },
  {
   "cell_type": "markdown",
   "id": "ff28ddc4",
   "metadata": {},
   "source": [
    "#### b. How many spend categories are there?"
   ]
  },
  {
   "cell_type": "code",
   "execution_count": 381,
   "id": "f1175c15",
   "metadata": {},
   "outputs": [
    {
     "data": {
      "text/plain": [
       "15"
      ]
     },
     "execution_count": 381,
     "metadata": {},
     "output_type": "execute_result"
    }
   ],
   "source": [
    "df2['Type'].value_counts().count() #According to 15 spend categories are there."
   ]
  },
  {
   "cell_type": "markdown",
   "id": "e7e14c5c",
   "metadata": {},
   "source": [
    "#### c. Which category has the highest average spend?"
   ]
  },
  {
   "cell_type": "code",
   "execution_count": 343,
   "id": "2c9728d6",
   "metadata": {},
   "outputs": [
    {
     "data": {
      "text/plain": [
       "Type\n",
       "AIR TICKET      254632.194082\n",
       "AUTO             27320.763977\n",
       "BIKE            210701.269489\n",
       "BUS TICKET       12681.030717\n",
       "CAMERA           21499.802175\n",
       "CAR             409143.467018\n",
       "CLOTHES          25140.160688\n",
       "FOOD               341.168321\n",
       "JEWELLERY       239218.687225\n",
       "MOVIE TICKET      1875.298919\n",
       "PETRO              549.483953\n",
       "RENTAL           13106.511138\n",
       "SANDALS           2516.628761\n",
       "SHOPPING          7394.332039\n",
       "TRAIN TICKET      1627.490364\n",
       "Name: Amount, dtype: float64"
      ]
     },
     "execution_count": 343,
     "metadata": {},
     "output_type": "execute_result"
    }
   ],
   "source": [
    "df2.groupby('Type').Amount.mean()# Air ticket is having highest average spend"
   ]
  },
  {
   "cell_type": "markdown",
   "id": "d505549b",
   "metadata": {},
   "source": [
    "#### d. What is the average monthly spent by product categories?"
   ]
  },
  {
   "cell_type": "code",
   "execution_count": 358,
   "id": "d77479a4",
   "metadata": {},
   "outputs": [],
   "source": [
    "df2['only_months'] = pd.to_datetime(df2['Month']).dt.month\n",
    "df2['only_year'] = pd.to_datetime(df2['Month']).dt.year"
   ]
  },
  {
   "cell_type": "code",
   "execution_count": 360,
   "id": "75514cd1",
   "metadata": {},
   "outputs": [
    {
     "data": {
      "text/plain": [
       "Type        only_year  only_months\n",
       "AIR TICKET  2004       1              257735.676815\n",
       "                       2              214071.843860\n",
       "                       3              455343.363643\n",
       "                       11             209883.255903\n",
       "            2005       1              303015.607706\n",
       "Name: Amount, dtype: float64"
      ]
     },
     "execution_count": 360,
     "metadata": {},
     "output_type": "execute_result"
    }
   ],
   "source": [
    "df2.groupby(['Type','only_year','only_months']).Amount.mean().head()#Monthly spent by category"
   ]
  },
  {
   "cell_type": "markdown",
   "id": "39e4425d",
   "metadata": {},
   "source": [
    "#### e. Which customers are reaching 90% or more of their spending limit?"
   ]
  },
  {
   "cell_type": "code",
   "execution_count": 370,
   "id": "de072a0a",
   "metadata": {},
   "outputs": [
    {
     "data": {
      "text/html": [
       "<div>\n",
       "<style scoped>\n",
       "    .dataframe tbody tr th:only-of-type {\n",
       "        vertical-align: middle;\n",
       "    }\n",
       "\n",
       "    .dataframe tbody tr th {\n",
       "        vertical-align: top;\n",
       "    }\n",
       "\n",
       "    .dataframe thead th {\n",
       "        text-align: right;\n",
       "    }\n",
       "</style>\n",
       "<table border=\"1\" class=\"dataframe\">\n",
       "  <thead>\n",
       "    <tr style=\"text-align: right;\">\n",
       "      <th></th>\n",
       "      <th>No</th>\n",
       "      <th>Customer</th>\n",
       "      <th>Age</th>\n",
       "      <th>City</th>\n",
       "      <th>Product</th>\n",
       "      <th>Limit</th>\n",
       "      <th>Company</th>\n",
       "      <th>Segment</th>\n",
       "      <th>Sl No:</th>\n",
       "      <th>Month</th>\n",
       "      <th>Type</th>\n",
       "      <th>Amount</th>\n",
       "      <th>Unnamed: 5</th>\n",
       "      <th>only_months</th>\n",
       "      <th>only_year</th>\n",
       "    </tr>\n",
       "  </thead>\n",
       "  <tbody>\n",
       "    <tr>\n",
       "      <th>0</th>\n",
       "      <td>1</td>\n",
       "      <td>A1</td>\n",
       "      <td>47.0</td>\n",
       "      <td>BANGALORE</td>\n",
       "      <td>Gold</td>\n",
       "      <td>1500000</td>\n",
       "      <td>C1</td>\n",
       "      <td>Self Employed</td>\n",
       "      <td>1</td>\n",
       "      <td>2004-01-12</td>\n",
       "      <td>JEWELLERY</td>\n",
       "      <td>344054.980813</td>\n",
       "      <td>NaN</td>\n",
       "      <td>1</td>\n",
       "      <td>2004</td>\n",
       "    </tr>\n",
       "    <tr>\n",
       "      <th>1</th>\n",
       "      <td>1</td>\n",
       "      <td>A1</td>\n",
       "      <td>47.0</td>\n",
       "      <td>BANGALORE</td>\n",
       "      <td>Gold</td>\n",
       "      <td>1500000</td>\n",
       "      <td>C1</td>\n",
       "      <td>Self Employed</td>\n",
       "      <td>2</td>\n",
       "      <td>2004-01-03</td>\n",
       "      <td>PETRO</td>\n",
       "      <td>935.495203</td>\n",
       "      <td>NaN</td>\n",
       "      <td>1</td>\n",
       "      <td>2004</td>\n",
       "    </tr>\n",
       "    <tr>\n",
       "      <th>2</th>\n",
       "      <td>1</td>\n",
       "      <td>A1</td>\n",
       "      <td>47.0</td>\n",
       "      <td>BANGALORE</td>\n",
       "      <td>Gold</td>\n",
       "      <td>1500000</td>\n",
       "      <td>C1</td>\n",
       "      <td>Self Employed</td>\n",
       "      <td>3</td>\n",
       "      <td>2004-01-15</td>\n",
       "      <td>CLOTHES</td>\n",
       "      <td>8687.895474</td>\n",
       "      <td>NaN</td>\n",
       "      <td>1</td>\n",
       "      <td>2004</td>\n",
       "    </tr>\n",
       "    <tr>\n",
       "      <th>3</th>\n",
       "      <td>1</td>\n",
       "      <td>A1</td>\n",
       "      <td>47.0</td>\n",
       "      <td>BANGALORE</td>\n",
       "      <td>Gold</td>\n",
       "      <td>1500000</td>\n",
       "      <td>C1</td>\n",
       "      <td>Self Employed</td>\n",
       "      <td>4</td>\n",
       "      <td>2004-01-25</td>\n",
       "      <td>FOOD</td>\n",
       "      <td>341.159711</td>\n",
       "      <td>NaN</td>\n",
       "      <td>1</td>\n",
       "      <td>2004</td>\n",
       "    </tr>\n",
       "    <tr>\n",
       "      <th>4</th>\n",
       "      <td>1</td>\n",
       "      <td>A1</td>\n",
       "      <td>47.0</td>\n",
       "      <td>BANGALORE</td>\n",
       "      <td>Gold</td>\n",
       "      <td>1500000</td>\n",
       "      <td>C1</td>\n",
       "      <td>Self Employed</td>\n",
       "      <td>5</td>\n",
       "      <td>2005-01-17</td>\n",
       "      <td>CAMERA</td>\n",
       "      <td>3406.639477</td>\n",
       "      <td>NaN</td>\n",
       "      <td>1</td>\n",
       "      <td>2005</td>\n",
       "    </tr>\n",
       "  </tbody>\n",
       "</table>\n",
       "</div>"
      ],
      "text/plain": [
       "   No Customer   Age       City Product    Limit Company        Segment  \\\n",
       "0   1       A1  47.0  BANGALORE    Gold  1500000      C1  Self Employed   \n",
       "1   1       A1  47.0  BANGALORE    Gold  1500000      C1  Self Employed   \n",
       "2   1       A1  47.0  BANGALORE    Gold  1500000      C1  Self Employed   \n",
       "3   1       A1  47.0  BANGALORE    Gold  1500000      C1  Self Employed   \n",
       "4   1       A1  47.0  BANGALORE    Gold  1500000      C1  Self Employed   \n",
       "\n",
       "   Sl No:      Month       Type         Amount  Unnamed: 5  only_months  \\\n",
       "0       1 2004-01-12  JEWELLERY  344054.980813         NaN            1   \n",
       "1       2 2004-01-03      PETRO     935.495203         NaN            1   \n",
       "2       3 2004-01-15    CLOTHES    8687.895474         NaN            1   \n",
       "3       4 2004-01-25       FOOD     341.159711         NaN            1   \n",
       "4       5 2005-01-17     CAMERA    3406.639477         NaN            1   \n",
       "\n",
       "   only_year  \n",
       "0       2004  \n",
       "1       2004  \n",
       "2       2004  \n",
       "3       2004  \n",
       "4       2005  "
      ]
     },
     "execution_count": 370,
     "metadata": {},
     "output_type": "execute_result"
    }
   ],
   "source": [
    "c = df1.merge(df2, on='Customer', how= 'inner' )\n",
    "c.head()"
   ]
  },
  {
   "cell_type": "code",
   "execution_count": 371,
   "id": "77b1a7db",
   "metadata": {},
   "outputs": [
    {
     "data": {
      "text/html": [
       "<div>\n",
       "<style scoped>\n",
       "    .dataframe tbody tr th:only-of-type {\n",
       "        vertical-align: middle;\n",
       "    }\n",
       "\n",
       "    .dataframe tbody tr th {\n",
       "        vertical-align: top;\n",
       "    }\n",
       "\n",
       "    .dataframe thead th {\n",
       "        text-align: right;\n",
       "    }\n",
       "</style>\n",
       "<table border=\"1\" class=\"dataframe\">\n",
       "  <thead>\n",
       "    <tr style=\"text-align: right;\">\n",
       "      <th></th>\n",
       "      <th>No</th>\n",
       "      <th>Customer</th>\n",
       "      <th>Age</th>\n",
       "      <th>City</th>\n",
       "      <th>Product</th>\n",
       "      <th>Limit</th>\n",
       "      <th>Company</th>\n",
       "      <th>Segment</th>\n",
       "      <th>Sl No:</th>\n",
       "      <th>Month</th>\n",
       "      <th>Type</th>\n",
       "      <th>Amount</th>\n",
       "      <th>Unnamed: 5</th>\n",
       "      <th>only_months</th>\n",
       "      <th>only_year</th>\n",
       "      <th>percent</th>\n",
       "    </tr>\n",
       "  </thead>\n",
       "  <tbody>\n",
       "    <tr>\n",
       "      <th>0</th>\n",
       "      <td>1</td>\n",
       "      <td>A1</td>\n",
       "      <td>47.0</td>\n",
       "      <td>BANGALORE</td>\n",
       "      <td>Gold</td>\n",
       "      <td>1500000</td>\n",
       "      <td>C1</td>\n",
       "      <td>Self Employed</td>\n",
       "      <td>1</td>\n",
       "      <td>2004-01-12</td>\n",
       "      <td>JEWELLERY</td>\n",
       "      <td>344054.980813</td>\n",
       "      <td>NaN</td>\n",
       "      <td>1</td>\n",
       "      <td>2004</td>\n",
       "      <td>22.936999</td>\n",
       "    </tr>\n",
       "    <tr>\n",
       "      <th>1</th>\n",
       "      <td>1</td>\n",
       "      <td>A1</td>\n",
       "      <td>47.0</td>\n",
       "      <td>BANGALORE</td>\n",
       "      <td>Gold</td>\n",
       "      <td>1500000</td>\n",
       "      <td>C1</td>\n",
       "      <td>Self Employed</td>\n",
       "      <td>2</td>\n",
       "      <td>2004-01-03</td>\n",
       "      <td>PETRO</td>\n",
       "      <td>935.495203</td>\n",
       "      <td>NaN</td>\n",
       "      <td>1</td>\n",
       "      <td>2004</td>\n",
       "      <td>0.311832</td>\n",
       "    </tr>\n",
       "    <tr>\n",
       "      <th>2</th>\n",
       "      <td>1</td>\n",
       "      <td>A1</td>\n",
       "      <td>47.0</td>\n",
       "      <td>BANGALORE</td>\n",
       "      <td>Gold</td>\n",
       "      <td>1500000</td>\n",
       "      <td>C1</td>\n",
       "      <td>Self Employed</td>\n",
       "      <td>3</td>\n",
       "      <td>2004-01-15</td>\n",
       "      <td>CLOTHES</td>\n",
       "      <td>8687.895474</td>\n",
       "      <td>NaN</td>\n",
       "      <td>1</td>\n",
       "      <td>2004</td>\n",
       "      <td>1.608870</td>\n",
       "    </tr>\n",
       "    <tr>\n",
       "      <th>3</th>\n",
       "      <td>1</td>\n",
       "      <td>A1</td>\n",
       "      <td>47.0</td>\n",
       "      <td>BANGALORE</td>\n",
       "      <td>Gold</td>\n",
       "      <td>1500000</td>\n",
       "      <td>C1</td>\n",
       "      <td>Self Employed</td>\n",
       "      <td>4</td>\n",
       "      <td>2004-01-25</td>\n",
       "      <td>FOOD</td>\n",
       "      <td>341.159711</td>\n",
       "      <td>NaN</td>\n",
       "      <td>1</td>\n",
       "      <td>2004</td>\n",
       "      <td>0.040610</td>\n",
       "    </tr>\n",
       "    <tr>\n",
       "      <th>4</th>\n",
       "      <td>1</td>\n",
       "      <td>A1</td>\n",
       "      <td>47.0</td>\n",
       "      <td>BANGALORE</td>\n",
       "      <td>Gold</td>\n",
       "      <td>1500000</td>\n",
       "      <td>C1</td>\n",
       "      <td>Self Employed</td>\n",
       "      <td>5</td>\n",
       "      <td>2005-01-17</td>\n",
       "      <td>CAMERA</td>\n",
       "      <td>3406.639477</td>\n",
       "      <td>NaN</td>\n",
       "      <td>1</td>\n",
       "      <td>2005</td>\n",
       "      <td>0.810942</td>\n",
       "    </tr>\n",
       "  </tbody>\n",
       "</table>\n",
       "</div>"
      ],
      "text/plain": [
       "   No Customer   Age       City Product    Limit Company        Segment  \\\n",
       "0   1       A1  47.0  BANGALORE    Gold  1500000      C1  Self Employed   \n",
       "1   1       A1  47.0  BANGALORE    Gold  1500000      C1  Self Employed   \n",
       "2   1       A1  47.0  BANGALORE    Gold  1500000      C1  Self Employed   \n",
       "3   1       A1  47.0  BANGALORE    Gold  1500000      C1  Self Employed   \n",
       "4   1       A1  47.0  BANGALORE    Gold  1500000      C1  Self Employed   \n",
       "\n",
       "   Sl No:      Month       Type         Amount  Unnamed: 5  only_months  \\\n",
       "0       1 2004-01-12  JEWELLERY  344054.980813         NaN            1   \n",
       "1       2 2004-01-03      PETRO     935.495203         NaN            1   \n",
       "2       3 2004-01-15    CLOTHES    8687.895474         NaN            1   \n",
       "3       4 2004-01-25       FOOD     341.159711         NaN            1   \n",
       "4       5 2005-01-17     CAMERA    3406.639477         NaN            1   \n",
       "\n",
       "   only_year    percent  \n",
       "0       2004  22.936999  \n",
       "1       2004   0.311832  \n",
       "2       2004   1.608870  \n",
       "3       2004   0.040610  \n",
       "4       2005   0.810942  "
      ]
     },
     "execution_count": 371,
     "metadata": {},
     "output_type": "execute_result"
    }
   ],
   "source": [
    "c['percent'] = 100 * c ['Amount']/df1['Limit']\n",
    "c.head()"
   ]
  },
  {
   "cell_type": "code",
   "execution_count": 372,
   "id": "07420fe3",
   "metadata": {},
   "outputs": [
    {
     "data": {
      "text/plain": [
       "5"
      ]
     },
     "execution_count": 372,
     "metadata": {},
     "output_type": "execute_result"
    }
   ],
   "source": [
    "#c.loc[(c['percent'] >90)]\n",
    "len(c.loc[(c['percent']>90)])# there are 5 customers who are reaching beyond 90% of their spending limit."
   ]
  },
  {
   "cell_type": "markdown",
   "id": "c75877bb",
   "metadata": {},
   "source": [
    "#### f. Which city has the maximum number of spenders, each month? Is there a need to run campaigns in specific cities?"
   ]
  },
  {
   "cell_type": "code",
   "execution_count": 373,
   "id": "22c87f1b",
   "metadata": {},
   "outputs": [],
   "source": [
    "c['Amount']=c['Amount'].round()"
   ]
  },
  {
   "cell_type": "code",
   "execution_count": 369,
   "id": "335b6892",
   "metadata": {},
   "outputs": [
    {
     "data": {
      "text/plain": [
       "City       only_year  only_months\n",
       "BANGALORE  2004       1               468900.0\n",
       "                      2               228947.0\n",
       "                      3                17664.0\n",
       "                      4               131352.0\n",
       "                      5                 4797.0\n",
       "                      9                 2805.0\n",
       "                      11              459281.0\n",
       "           2005       1                22892.0\n",
       "                      2              1307745.0\n",
       "                      4                 7532.0\n",
       "Name: Amount, dtype: float64"
      ]
     },
     "execution_count": 369,
     "metadata": {},
     "output_type": "execute_result"
    }
   ],
   "source": [
    "c.groupby(['City','only_year','only_months']).Amount.max().head(10)"
   ]
  },
  {
   "cell_type": "code",
   "execution_count": 380,
   "id": "c341669f",
   "metadata": {},
   "outputs": [
    {
     "data": {
      "text/plain": [
       "Amount\n",
       "3.0         DELHI\n",
       "6.0     BANGALORE\n",
       "14.0       COCHIN\n",
       "19.0     CALCUTTA\n",
       "22.0        DELHI\n",
       "24.0        PATNA\n",
       "35.0     CALCUTTA\n",
       "38.0       COCHIN\n",
       "44.0    BANGALORE\n",
       "51.0     CALCUTTA\n",
       "Name: City, dtype: object"
      ]
     },
     "execution_count": 380,
     "metadata": {},
     "output_type": "execute_result"
    }
   ],
   "source": [
    "city_spender_max=c.groupby('Amount').City.max()\n",
    "city_spender_max.head(10)"
   ]
  },
  {
   "cell_type": "code",
   "execution_count": 378,
   "id": "7e9d3a6d",
   "metadata": {},
   "outputs": [
    {
     "data": {
      "text/plain": [
       "City\n",
       "BANGALORE     15944285.0\n",
       "BOMBAY        13392259.0\n",
       "CALCUTTA      14324072.0\n",
       "CHENNAI       11405900.0\n",
       "COCHIN        21119133.0\n",
       "DELHI          6156189.0\n",
       "PATNA          5728965.0\n",
       "TRIVANDRUM     5285059.0\n",
       "Name: Amount, dtype: float64"
      ]
     },
     "execution_count": 378,
     "metadata": {},
     "output_type": "execute_result"
    }
   ],
   "source": [
    "c.groupby(['City']).Amount.sum().head(50)#In Triruvandrum there is a need to run campaign."
   ]
  },
  {
   "cell_type": "markdown",
   "id": "b75929d7",
   "metadata": {},
   "source": [
    "#### g. Which age group spends the most?"
   ]
  },
  {
   "cell_type": "code",
   "execution_count": 382,
   "id": "84923057",
   "metadata": {},
   "outputs": [
    {
     "data": {
      "text/plain": [
       "Age\n",
       "47.00    1307745.0\n",
       "71.00     950543.0\n",
       "46.46     655393.0\n",
       "39.00     616518.0\n",
       "68.00     497828.0\n",
       "51.00     493939.0\n",
       "41.00     493797.0\n",
       "74.00     490613.0\n",
       "18.00     488619.0\n",
       "26.00     486155.0\n",
       "30.00     485874.0\n",
       "59.00     485322.0\n",
       "58.00     479180.0\n",
       "27.00     479116.0\n",
       "22.00     477199.0\n",
       "24.00     475407.0\n",
       "38.00     473696.0\n",
       "69.00     468900.0\n",
       "64.00     466368.0\n",
       "63.00     465644.0\n",
       "54.00     464635.0\n",
       "23.00     463952.0\n",
       "67.00     455343.0\n",
       "65.00     452497.0\n",
       "48.00     449521.0\n",
       "50.00     445834.0\n",
       "36.00     431831.0\n",
       "57.00     431150.0\n",
       "62.00     416018.0\n",
       "29.00     408699.0\n",
       "55.00     394372.0\n",
       "44.00     377085.0\n",
       "35.00     376230.0\n",
       "60.00     351310.0\n",
       "33.00     329991.0\n",
       "73.00     329821.0\n",
       "72.00     302161.0\n",
       "46.00     292925.0\n",
       "42.00     207419.0\n",
       "25.00     184763.0\n",
       "43.00     171945.0\n",
       "40.00     153638.0\n",
       "56.00     141773.0\n",
       "21.00      41832.0\n",
       "28.00      35490.0\n",
       "19.00      31284.0\n",
       "75.00      13440.0\n",
       "37.00       4755.0\n",
       "31.00       4195.0\n",
       "Name: Amount, dtype: float64"
      ]
     },
     "execution_count": 382,
     "metadata": {},
     "output_type": "execute_result"
    }
   ],
   "source": [
    "c.groupby('Age').Amount.max().sort_values(ascending=False)# 47 age group people are spending most."
   ]
  },
  {
   "cell_type": "code",
   "execution_count": 383,
   "id": "38767059",
   "metadata": {},
   "outputs": [],
   "source": [
    "df_wifi = pd.read_excel('Wifi_Data.xlsx')"
   ]
  },
  {
   "cell_type": "code",
   "execution_count": 388,
   "id": "12095997",
   "metadata": {},
   "outputs": [
    {
     "data": {
      "text/html": [
       "<div>\n",
       "<style scoped>\n",
       "    .dataframe tbody tr th:only-of-type {\n",
       "        vertical-align: middle;\n",
       "    }\n",
       "\n",
       "    .dataframe tbody tr th {\n",
       "        vertical-align: top;\n",
       "    }\n",
       "\n",
       "    .dataframe thead th {\n",
       "        text-align: right;\n",
       "    }\n",
       "</style>\n",
       "<table border=\"1\" class=\"dataframe\">\n",
       "  <thead>\n",
       "    <tr style=\"text-align: right;\">\n",
       "      <th></th>\n",
       "      <th>OBJECTID</th>\n",
       "      <th>Borough</th>\n",
       "      <th>Type</th>\n",
       "      <th>Provider</th>\n",
       "      <th>Latitude</th>\n",
       "      <th>Longitude</th>\n",
       "      <th>Location_T</th>\n",
       "      <th>City</th>\n",
       "      <th>BoroCode</th>\n",
       "      <th>NTACode</th>\n",
       "    </tr>\n",
       "  </thead>\n",
       "  <tbody>\n",
       "    <tr>\n",
       "      <th>0</th>\n",
       "      <td>998</td>\n",
       "      <td>MN</td>\n",
       "      <td>Free</td>\n",
       "      <td>LinkNYC - Citybridge</td>\n",
       "      <td>40.745968</td>\n",
       "      <td>-73.994039</td>\n",
       "      <td>Outdoor Kiosk</td>\n",
       "      <td>New York</td>\n",
       "      <td>1</td>\n",
       "      <td>MN17</td>\n",
       "    </tr>\n",
       "    <tr>\n",
       "      <th>1</th>\n",
       "      <td>999</td>\n",
       "      <td>MN</td>\n",
       "      <td>Free</td>\n",
       "      <td>LinkNYC - Citybridge</td>\n",
       "      <td>40.744614</td>\n",
       "      <td>-73.985069</td>\n",
       "      <td>Outdoor Kiosk</td>\n",
       "      <td>New York</td>\n",
       "      <td>1</td>\n",
       "      <td>MN17</td>\n",
       "    </tr>\n",
       "    <tr>\n",
       "      <th>2</th>\n",
       "      <td>1000</td>\n",
       "      <td>MN</td>\n",
       "      <td>Free</td>\n",
       "      <td>LinkNYC - Citybridge</td>\n",
       "      <td>40.757666</td>\n",
       "      <td>-73.985878</td>\n",
       "      <td>Outdoor Kiosk</td>\n",
       "      <td>New York</td>\n",
       "      <td>1</td>\n",
       "      <td>MN17</td>\n",
       "    </tr>\n",
       "    <tr>\n",
       "      <th>3</th>\n",
       "      <td>1001</td>\n",
       "      <td>MN</td>\n",
       "      <td>Free</td>\n",
       "      <td>LinkNYC - Citybridge</td>\n",
       "      <td>40.759971</td>\n",
       "      <td>-73.984342</td>\n",
       "      <td>Outdoor Kiosk</td>\n",
       "      <td>New York</td>\n",
       "      <td>1</td>\n",
       "      <td>MN17</td>\n",
       "    </tr>\n",
       "    <tr>\n",
       "      <th>4</th>\n",
       "      <td>1002</td>\n",
       "      <td>MN</td>\n",
       "      <td>Free</td>\n",
       "      <td>LinkNYC - Citybridge</td>\n",
       "      <td>40.760413</td>\n",
       "      <td>-73.984541</td>\n",
       "      <td>Outdoor Kiosk</td>\n",
       "      <td>New York</td>\n",
       "      <td>1</td>\n",
       "      <td>MN17</td>\n",
       "    </tr>\n",
       "  </tbody>\n",
       "</table>\n",
       "</div>"
      ],
      "text/plain": [
       "   OBJECTID Borough  Type              Provider   Latitude  Longitude  \\\n",
       "0       998      MN  Free  LinkNYC - Citybridge  40.745968 -73.994039   \n",
       "1       999      MN  Free  LinkNYC - Citybridge  40.744614 -73.985069   \n",
       "2      1000      MN  Free  LinkNYC - Citybridge  40.757666 -73.985878   \n",
       "3      1001      MN  Free  LinkNYC - Citybridge  40.759971 -73.984342   \n",
       "4      1002      MN  Free  LinkNYC - Citybridge  40.760413 -73.984541   \n",
       "\n",
       "      Location_T      City  BoroCode NTACode  \n",
       "0  Outdoor Kiosk  New York         1    MN17  \n",
       "1  Outdoor Kiosk  New York         1    MN17  \n",
       "2  Outdoor Kiosk  New York         1    MN17  \n",
       "3  Outdoor Kiosk  New York         1    MN17  \n",
       "4  Outdoor Kiosk  New York         1    MN17  "
      ]
     },
     "execution_count": 388,
     "metadata": {},
     "output_type": "execute_result"
    }
   ],
   "source": [
    "df_wifi.head()"
   ]
  },
  {
   "cell_type": "markdown",
   "id": "44816902",
   "metadata": {},
   "source": [
    "### 1) Get the data provided, check frequency distribution of the features, drop irrelevant and redundant features if any and state your inferences?"
   ]
  },
  {
   "cell_type": "code",
   "execution_count": 395,
   "id": "79477563",
   "metadata": {},
   "outputs": [
    {
     "data": {
      "text/plain": [
       "<AxesSubplot:>"
      ]
     },
     "execution_count": 395,
     "metadata": {},
     "output_type": "execute_result"
    },
    {
     "data": {
      "image/png": "[encoded data removed]",
      "text/plain": [
       "<Figure size 432x288 with 1 Axes>"
      ]
     },
     "metadata": {
      "needs_background": "light"
     },
     "output_type": "display_data"
    }
   ],
   "source": [
    "df_wifi.Borough.value_counts().plot.bar()"
   ]
  },
  {
   "cell_type": "code",
   "execution_count": 396,
   "id": "c8c5acf7",
   "metadata": {},
   "outputs": [
    {
     "data": {
      "text/plain": [
       "<AxesSubplot:>"
      ]
     },
     "execution_count": 396,
     "metadata": {},
     "output_type": "execute_result"
    },
    {
     "data": {
      "image/png": "[encoded data removed]",
      "text/plain": [
       "<Figure size 432x288 with 1 Axes>"
      ]
     },
     "metadata": {
      "needs_background": "light"
     },
     "output_type": "display_data"
    }
   ],
   "source": [
    "df_wifi.Provider.value_counts().plot.bar()"
   ]
  },
  {
   "cell_type": "code",
   "execution_count": 397,
   "id": "afbd5f80",
   "metadata": {},
   "outputs": [
    {
     "data": {
      "text/plain": [
       "<AxesSubplot:>"
      ]
     },
     "execution_count": 397,
     "metadata": {},
     "output_type": "execute_result"
    },
    {
     "data": {
      "image/png": "[encoded data removed]",
      "text/plain": [
       "<Figure size 432x288 with 1 Axes>"
      ]
     },
     "metadata": {
      "needs_background": "light"
     },
     "output_type": "display_data"
    }
   ],
   "source": [
    "df_wifi.Location_T.value_counts().plot.bar()"
   ]
  },
  {
   "cell_type": "code",
   "execution_count": 400,
   "id": "cc0eecab",
   "metadata": {},
   "outputs": [
    {
     "data": {
      "text/plain": [
       "<AxesSubplot:>"
      ]
     },
     "execution_count": 400,
     "metadata": {},
     "output_type": "execute_result"
    },
    {
     "data": {
      "image/png": "[encoded data removed]",
      "text/plain": [
       "<Figure size 432x288 with 1 Axes>"
      ]
     },
     "metadata": {
      "needs_background": "light"
     },
     "output_type": "display_data"
    }
   ],
   "source": [
    "df_wifi.Type.value_counts().plot.bar()"
   ]
  },
  {
   "cell_type": "code",
   "execution_count": 402,
   "id": "b30fe905",
   "metadata": {},
   "outputs": [
    {
     "data": {
      "text/plain": [
       "<AxesSubplot:ylabel='NTACode'>"
      ]
     },
     "execution_count": 402,
     "metadata": {},
     "output_type": "execute_result"
    },
    {
     "data": {
      "image/png": "[encoded data removed]",
      "text/plain": [
       "<Figure size 432x288 with 1 Axes>"
      ]
     },
     "metadata": {},
     "output_type": "display_data"
    }
   ],
   "source": [
    "df_wifi.NTACode.value_counts().plot.pie()"
   ]
  },
  {
   "cell_type": "code",
   "execution_count": 403,
   "id": "8bcae162",
   "metadata": {},
   "outputs": [
    {
     "data": {
      "text/plain": [
       "<AxesSubplot:ylabel='BoroCode'>"
      ]
     },
     "execution_count": 403,
     "metadata": {},
     "output_type": "execute_result"
    },
    {
     "data": {
      "image/png": "[encoded data removed]",
      "text/plain": [
       "<Figure size 432x288 with 1 Axes>"
      ]
     },
     "metadata": {},
     "output_type": "display_data"
    }
   ],
   "source": [
    "df_wifi.BoroCode.value_counts().plot.pie()"
   ]
  },
  {
   "cell_type": "code",
   "execution_count": 405,
   "id": "643384ba",
   "metadata": {},
   "outputs": [
    {
     "data": {
      "text/plain": [
       "New York            1204\n",
       "Brooklyn             595\n",
       "Queens               350\n",
       "Bronx                257\n",
       "Staten Island         95\n",
       "Flushing               9\n",
       "Long Island City       8\n",
       "Jamaica                5\n",
       "Corona                 3\n",
       "Bayside                3\n",
       "Richmond Hill          2\n",
       "Forest Hills           2\n",
       "Little Neck            2\n",
       "East Elmhurst          1\n",
       "Glen Oaks              1\n",
       "Glendale               1\n",
       "College Point          1\n",
       "Cambria Heights        1\n",
       "Howard Beach           1\n",
       "Rockaway Park          1\n",
       "Queens Village         1\n",
       "Ozone Park             1\n",
       "Middle Village         1\n",
       "Fresh Meadows          1\n",
       "South Hollis           1\n",
       "Far Rockaway           1\n",
       "Rosedale               1\n",
       "Woodside               1\n",
       "Jackson Heights        1\n",
       "Saint Albans           1\n",
       "South Ozone Park       1\n",
       "Bellerose              1\n",
       "Rockaway Beach         1\n",
       "Broad Channel          1\n",
       "Whitestone             1\n",
       "Ridgewood              1\n",
       "Arverne                1\n",
       "Rego Park              1\n",
       "Laurelton              1\n",
       "Hollis                 1\n",
       "Maspeth                1\n",
       "Elmhurst               1\n",
       "Briarwood              1\n",
       "Woodhaven              1\n",
       "Name: City, dtype: int64"
      ]
     },
     "execution_count": 405,
     "metadata": {},
     "output_type": "execute_result"
    }
   ],
   "source": [
    "df_wifi.City.value_counts()"
   ]
  },
  {
   "cell_type": "code",
   "execution_count": 385,
   "id": "f6a88b3b",
   "metadata": {},
   "outputs": [
    {
     "data": {
      "text/html": [
       "<div>\n",
       "<style scoped>\n",
       "    .dataframe tbody tr th:only-of-type {\n",
       "        vertical-align: middle;\n",
       "    }\n",
       "\n",
       "    .dataframe tbody tr th {\n",
       "        vertical-align: top;\n",
       "    }\n",
       "\n",
       "    .dataframe thead th {\n",
       "        text-align: right;\n",
       "    }\n",
       "</style>\n",
       "<table border=\"1\" class=\"dataframe\">\n",
       "  <thead>\n",
       "    <tr style=\"text-align: right;\">\n",
       "      <th></th>\n",
       "      <th>OBJECTID</th>\n",
       "      <th>Latitude</th>\n",
       "      <th>Longitude</th>\n",
       "      <th>BoroCode</th>\n",
       "    </tr>\n",
       "  </thead>\n",
       "  <tbody>\n",
       "    <tr>\n",
       "      <th>count</th>\n",
       "      <td>2566.000000</td>\n",
       "      <td>2566.000000</td>\n",
       "      <td>2566.000000</td>\n",
       "      <td>2566.000000</td>\n",
       "    </tr>\n",
       "    <tr>\n",
       "      <th>mean</th>\n",
       "      <td>1283.500000</td>\n",
       "      <td>40.738396</td>\n",
       "      <td>-73.947564</td>\n",
       "      <td>2.196804</td>\n",
       "    </tr>\n",
       "    <tr>\n",
       "      <th>std</th>\n",
       "      <td>740.884719</td>\n",
       "      <td>0.070845</td>\n",
       "      <td>0.067150</td>\n",
       "      <td>1.282300</td>\n",
       "    </tr>\n",
       "    <tr>\n",
       "      <th>min</th>\n",
       "      <td>1.000000</td>\n",
       "      <td>40.509531</td>\n",
       "      <td>-74.244107</td>\n",
       "      <td>1.000000</td>\n",
       "    </tr>\n",
       "    <tr>\n",
       "      <th>25%</th>\n",
       "      <td>642.250000</td>\n",
       "      <td>40.693069</td>\n",
       "      <td>-73.985954</td>\n",
       "      <td>1.000000</td>\n",
       "    </tr>\n",
       "    <tr>\n",
       "      <th>50%</th>\n",
       "      <td>1283.500000</td>\n",
       "      <td>40.743196</td>\n",
       "      <td>-73.958354</td>\n",
       "      <td>2.000000</td>\n",
       "    </tr>\n",
       "    <tr>\n",
       "      <th>75%</th>\n",
       "      <td>1924.750000</td>\n",
       "      <td>40.796066</td>\n",
       "      <td>-73.922968</td>\n",
       "      <td>3.000000</td>\n",
       "    </tr>\n",
       "    <tr>\n",
       "      <th>max</th>\n",
       "      <td>2566.000000</td>\n",
       "      <td>40.903723</td>\n",
       "      <td>-73.714838</td>\n",
       "      <td>5.000000</td>\n",
       "    </tr>\n",
       "  </tbody>\n",
       "</table>\n",
       "</div>"
      ],
      "text/plain": [
       "          OBJECTID     Latitude    Longitude     BoroCode\n",
       "count  2566.000000  2566.000000  2566.000000  2566.000000\n",
       "mean   1283.500000    40.738396   -73.947564     2.196804\n",
       "std     740.884719     0.070845     0.067150     1.282300\n",
       "min       1.000000    40.509531   -74.244107     1.000000\n",
       "25%     642.250000    40.693069   -73.985954     1.000000\n",
       "50%    1283.500000    40.743196   -73.958354     2.000000\n",
       "75%    1924.750000    40.796066   -73.922968     3.000000\n",
       "max    2566.000000    40.903723   -73.714838     5.000000"
      ]
     },
     "execution_count": 385,
     "metadata": {},
     "output_type": "execute_result"
    }
   ],
   "source": [
    "df_wifi.describe()"
   ]
  },
  {
   "cell_type": "code",
   "execution_count": 386,
   "id": "94eef209",
   "metadata": {},
   "outputs": [
    {
     "name": "stdout",
     "output_type": "stream",
     "text": [
      "<class 'pandas.core.frame.DataFrame'>\n",
      "RangeIndex: 2566 entries, 0 to 2565\n",
      "Data columns (total 10 columns):\n",
      " #   Column      Non-Null Count  Dtype  \n",
      "---  ------      --------------  -----  \n",
      " 0   OBJECTID    2566 non-null   int64  \n",
      " 1   Borough     2566 non-null   object \n",
      " 2   Type        2566 non-null   object \n",
      " 3   Provider    2566 non-null   object \n",
      " 4   Latitude    2566 non-null   float64\n",
      " 5   Longitude   2566 non-null   float64\n",
      " 6   Location_T  2566 non-null   object \n",
      " 7   City        2566 non-null   object \n",
      " 8   BoroCode    2566 non-null   int64  \n",
      " 9   NTACode     2566 non-null   object \n",
      "dtypes: float64(2), int64(2), object(6)\n",
      "memory usage: 200.6+ KB\n"
     ]
    }
   ],
   "source": [
    "df_wifi.info()"
   ]
  },
  {
   "cell_type": "markdown",
   "id": "661c17ed",
   "metadata": {},
   "source": [
    "### 2) Using appropriate data visualization answer the following:\n",
    "a. Plot the providers vs number of all wi-fi hotspots they have in operation? Who has\n",
    "the highest installations?"
   ]
  },
  {
   "cell_type": "code",
   "execution_count": 408,
   "id": "5b84b91f",
   "metadata": {},
   "outputs": [
    {
     "data": {
      "text/html": [
       "<div>\n",
       "<style scoped>\n",
       "    .dataframe tbody tr th:only-of-type {\n",
       "        vertical-align: middle;\n",
       "    }\n",
       "\n",
       "    .dataframe tbody tr th {\n",
       "        vertical-align: top;\n",
       "    }\n",
       "\n",
       "    .dataframe thead th {\n",
       "        text-align: right;\n",
       "    }\n",
       "</style>\n",
       "<table border=\"1\" class=\"dataframe\">\n",
       "  <thead>\n",
       "    <tr style=\"text-align: right;\">\n",
       "      <th></th>\n",
       "      <th>OBJECTID</th>\n",
       "      <th>Borough</th>\n",
       "      <th>Type</th>\n",
       "      <th>Provider</th>\n",
       "      <th>Latitude</th>\n",
       "      <th>Longitude</th>\n",
       "      <th>Location_T</th>\n",
       "      <th>City</th>\n",
       "      <th>BoroCode</th>\n",
       "      <th>NTACode</th>\n",
       "    </tr>\n",
       "  </thead>\n",
       "  <tbody>\n",
       "    <tr>\n",
       "      <th>0</th>\n",
       "      <td>998</td>\n",
       "      <td>MN</td>\n",
       "      <td>Free</td>\n",
       "      <td>LinkNYC - Citybridge</td>\n",
       "      <td>40.745968</td>\n",
       "      <td>-73.994039</td>\n",
       "      <td>Outdoor Kiosk</td>\n",
       "      <td>New York</td>\n",
       "      <td>1</td>\n",
       "      <td>MN17</td>\n",
       "    </tr>\n",
       "    <tr>\n",
       "      <th>1</th>\n",
       "      <td>999</td>\n",
       "      <td>MN</td>\n",
       "      <td>Free</td>\n",
       "      <td>LinkNYC - Citybridge</td>\n",
       "      <td>40.744614</td>\n",
       "      <td>-73.985069</td>\n",
       "      <td>Outdoor Kiosk</td>\n",
       "      <td>New York</td>\n",
       "      <td>1</td>\n",
       "      <td>MN17</td>\n",
       "    </tr>\n",
       "    <tr>\n",
       "      <th>2</th>\n",
       "      <td>1000</td>\n",
       "      <td>MN</td>\n",
       "      <td>Free</td>\n",
       "      <td>LinkNYC - Citybridge</td>\n",
       "      <td>40.757666</td>\n",
       "      <td>-73.985878</td>\n",
       "      <td>Outdoor Kiosk</td>\n",
       "      <td>New York</td>\n",
       "      <td>1</td>\n",
       "      <td>MN17</td>\n",
       "    </tr>\n",
       "    <tr>\n",
       "      <th>3</th>\n",
       "      <td>1001</td>\n",
       "      <td>MN</td>\n",
       "      <td>Free</td>\n",
       "      <td>LinkNYC - Citybridge</td>\n",
       "      <td>40.759971</td>\n",
       "      <td>-73.984342</td>\n",
       "      <td>Outdoor Kiosk</td>\n",
       "      <td>New York</td>\n",
       "      <td>1</td>\n",
       "      <td>MN17</td>\n",
       "    </tr>\n",
       "    <tr>\n",
       "      <th>4</th>\n",
       "      <td>1002</td>\n",
       "      <td>MN</td>\n",
       "      <td>Free</td>\n",
       "      <td>LinkNYC - Citybridge</td>\n",
       "      <td>40.760413</td>\n",
       "      <td>-73.984541</td>\n",
       "      <td>Outdoor Kiosk</td>\n",
       "      <td>New York</td>\n",
       "      <td>1</td>\n",
       "      <td>MN17</td>\n",
       "    </tr>\n",
       "  </tbody>\n",
       "</table>\n",
       "</div>"
      ],
      "text/plain": [
       "   OBJECTID Borough  Type              Provider   Latitude  Longitude  \\\n",
       "0       998      MN  Free  LinkNYC - Citybridge  40.745968 -73.994039   \n",
       "1       999      MN  Free  LinkNYC - Citybridge  40.744614 -73.985069   \n",
       "2      1000      MN  Free  LinkNYC - Citybridge  40.757666 -73.985878   \n",
       "3      1001      MN  Free  LinkNYC - Citybridge  40.759971 -73.984342   \n",
       "4      1002      MN  Free  LinkNYC - Citybridge  40.760413 -73.984541   \n",
       "\n",
       "      Location_T      City  BoroCode NTACode  \n",
       "0  Outdoor Kiosk  New York         1    MN17  \n",
       "1  Outdoor Kiosk  New York         1    MN17  \n",
       "2  Outdoor Kiosk  New York         1    MN17  \n",
       "3  Outdoor Kiosk  New York         1    MN17  \n",
       "4  Outdoor Kiosk  New York         1    MN17  "
      ]
     },
     "execution_count": 408,
     "metadata": {},
     "output_type": "execute_result"
    }
   ],
   "source": [
    "df_wifi.head()"
   ]
  },
  {
   "cell_type": "code",
   "execution_count": 422,
   "id": "d2510fd0",
   "metadata": {},
   "outputs": [
    {
     "data": {
      "text/plain": [
       "<AxesSubplot:xlabel='Provider', ylabel='OBJECTID'>"
      ]
     },
     "execution_count": 422,
     "metadata": {},
     "output_type": "execute_result"
    },
    {
     "data": {
      "image/png": "[encoded data removed]",
      "text/plain": [
       "<Figure size 432x288 with 1 Axes>"
      ]
     },
     "metadata": {
      "needs_background": "light"
     },
     "output_type": "display_data"
    }
   ],
   "source": [
    "sns.boxplot(x = 'Provider', y = 'OBJECTID', data = df_wifi)"
   ]
  },
  {
   "cell_type": "markdown",
   "id": "3a1c787f",
   "metadata": {},
   "source": [
    "### b. Plot providers vs number of free wifi hotspots."
   ]
  },
  {
   "cell_type": "code",
   "execution_count": 431,
   "id": "6aa62bf5",
   "metadata": {},
   "outputs": [],
   "source": [
    "df_wifi['free_wifi']= (df_wifi['Type']=='Free')"
   ]
  },
  {
   "cell_type": "code",
   "execution_count": 446,
   "id": "3bd052a0",
   "metadata": {},
   "outputs": [
    {
     "name": "stdout",
     "output_type": "stream",
     "text": [
      "free_wifi                False  True \n",
      "Provider                             \n",
      "ALTICEUSA                  237      0\n",
      "AT&T                         1     26\n",
      "BPL                          0     59\n",
      "Chelsea                      0     30\n",
      "City Tech                    0     11\n",
      "Downtown Brooklyn            0    100\n",
      "Harlem                       0    128\n",
      "LinkNYC - Citybridge         0   1134\n",
      "Manhattan Down Alliance      0     36\n",
      "NYCHA                        0     28\n",
      "NYPL                         0     90\n",
      "Partner                      2      0\n",
      "QPL                          0     65\n",
      "SPECTRUM                   343      0\n",
      "Transit Wireless             0    276\n"
     ]
    }
   ],
   "source": [
    "CrosstabResult=pd.crosstab(index=df_wifi['Provider'],columns=df_wifi['free_wifi'])\n",
    "print(CrosstabResult)\n"
   ]
  },
  {
   "cell_type": "code",
   "execution_count": 447,
   "id": "8c5364a0",
   "metadata": {},
   "outputs": [
    {
     "data": {
      "text/plain": [
       "<AxesSubplot:xlabel='Provider'>"
      ]
     },
     "execution_count": 447,
     "metadata": {},
     "output_type": "execute_result"
    },
    {
     "data": {
      "image/png": "[encoded data removed]",
      "text/plain": [
       "<Figure size 432x288 with 1 Axes>"
      ]
     },
     "metadata": {
      "needs_background": "light"
     },
     "output_type": "display_data"
    }
   ],
   "source": [
    "%matplotlib inline \n",
    "CrosstabResult.plot.bar()# Plotting providers vs number of free wifi hotspots"
   ]
  },
  {
   "cell_type": "markdown",
   "id": "b375f3ed",
   "metadata": {},
   "source": [
    "#### c. Are there any provider(s) who do not provide free wifi?"
   ]
  },
  {
   "cell_type": "code",
   "execution_count": 451,
   "id": "ce101fce",
   "metadata": {},
   "outputs": [
    {
     "data": {
      "text/plain": [
       "<AxesSubplot:xlabel='Type'>"
      ]
     },
     "execution_count": 451,
     "metadata": {},
     "output_type": "execute_result"
    },
    {
     "data": {
      "image/png": "[encoded data removed]",
      "text/plain": [
       "<Figure size 432x288 with 1 Axes>"
      ]
     },
     "metadata": {
      "needs_background": "light"
     },
     "output_type": "display_data"
    }
   ],
   "source": [
    "df_wifi.groupby('Type').Provider.count().plot.bar() # there are providers who do not provide free wifi"
   ]
  },
  {
   "cell_type": "markdown",
   "id": "d46dece6",
   "metadata": {},
   "source": [
    "### d. Which Location type (Location_T) are most common and least common?"
   ]
  },
  {
   "cell_type": "code",
   "execution_count": 452,
   "id": "98c5e6ad",
   "metadata": {},
   "outputs": [
    {
     "data": {
      "text/plain": [
       "<AxesSubplot:>"
      ]
     },
     "execution_count": 452,
     "metadata": {},
     "output_type": "execute_result"
    },
    {
     "data": {
      "image/png": "[encoded data removed]",
      "text/plain": [
       "<Figure size 432x288 with 1 Axes>"
      ]
     },
     "metadata": {
      "needs_background": "light"
     },
     "output_type": "display_data"
    }
   ],
   "source": [
    "df_wifi.Location_T.value_counts().plot.bar()# outdoor Kiosk are most common location"
   ]
  },
  {
   "cell_type": "markdown",
   "id": "c17fc17c",
   "metadata": {},
   "source": [
    "### e. How many free “indoor” and “outdoor” hotspots are there? Which companies have the highest number of Outdoor Free installations."
   ]
  },
  {
   "cell_type": "code",
   "execution_count": 453,
   "id": "0493370c",
   "metadata": {},
   "outputs": [
    {
     "data": {
      "text/plain": [
       "Outdoor Kiosk         1134\n",
       "Outdoor                696\n",
       "Subway Station         276\n",
       "Library                214\n",
       "Indoor                 125\n",
       "Outdoor TWC Aerial     121\n",
       "Name: Location_T, dtype: int64"
      ]
     },
     "execution_count": 453,
     "metadata": {},
     "output_type": "execute_result"
    }
   ],
   "source": [
    "df_wifi.Location_T.value_counts()"
   ]
  },
  {
   "cell_type": "code",
   "execution_count": 474,
   "id": "bfff3636",
   "metadata": {},
   "outputs": [
    {
     "data": {
      "text/html": [
       "<div>\n",
       "<style scoped>\n",
       "    .dataframe tbody tr th:only-of-type {\n",
       "        vertical-align: middle;\n",
       "    }\n",
       "\n",
       "    .dataframe tbody tr th {\n",
       "        vertical-align: top;\n",
       "    }\n",
       "\n",
       "    .dataframe thead th {\n",
       "        text-align: right;\n",
       "    }\n",
       "</style>\n",
       "<table border=\"1\" class=\"dataframe\">\n",
       "  <thead>\n",
       "    <tr style=\"text-align: right;\">\n",
       "      <th></th>\n",
       "      <th>OBJECTID</th>\n",
       "      <th>Borough</th>\n",
       "      <th>Type</th>\n",
       "      <th>Provider</th>\n",
       "      <th>Latitude</th>\n",
       "      <th>Longitude</th>\n",
       "      <th>Location_T</th>\n",
       "      <th>City</th>\n",
       "      <th>BoroCode</th>\n",
       "      <th>NTACode</th>\n",
       "      <th>free_wifi</th>\n",
       "      <th>Outdoor_Location_T</th>\n",
       "    </tr>\n",
       "  </thead>\n",
       "  <tbody>\n",
       "    <tr>\n",
       "      <th>0</th>\n",
       "      <td>998</td>\n",
       "      <td>MN</td>\n",
       "      <td>Free</td>\n",
       "      <td>LinkNYC - Citybridge</td>\n",
       "      <td>40.745968</td>\n",
       "      <td>-73.994039</td>\n",
       "      <td>Outdoor Kiosk</td>\n",
       "      <td>New York</td>\n",
       "      <td>1</td>\n",
       "      <td>MN17</td>\n",
       "      <td>True</td>\n",
       "      <td>False</td>\n",
       "    </tr>\n",
       "    <tr>\n",
       "      <th>1</th>\n",
       "      <td>999</td>\n",
       "      <td>MN</td>\n",
       "      <td>Free</td>\n",
       "      <td>LinkNYC - Citybridge</td>\n",
       "      <td>40.744614</td>\n",
       "      <td>-73.985069</td>\n",
       "      <td>Outdoor Kiosk</td>\n",
       "      <td>New York</td>\n",
       "      <td>1</td>\n",
       "      <td>MN17</td>\n",
       "      <td>True</td>\n",
       "      <td>False</td>\n",
       "    </tr>\n",
       "    <tr>\n",
       "      <th>2</th>\n",
       "      <td>1000</td>\n",
       "      <td>MN</td>\n",
       "      <td>Free</td>\n",
       "      <td>LinkNYC - Citybridge</td>\n",
       "      <td>40.757666</td>\n",
       "      <td>-73.985878</td>\n",
       "      <td>Outdoor Kiosk</td>\n",
       "      <td>New York</td>\n",
       "      <td>1</td>\n",
       "      <td>MN17</td>\n",
       "      <td>True</td>\n",
       "      <td>False</td>\n",
       "    </tr>\n",
       "    <tr>\n",
       "      <th>3</th>\n",
       "      <td>1001</td>\n",
       "      <td>MN</td>\n",
       "      <td>Free</td>\n",
       "      <td>LinkNYC - Citybridge</td>\n",
       "      <td>40.759971</td>\n",
       "      <td>-73.984342</td>\n",
       "      <td>Outdoor Kiosk</td>\n",
       "      <td>New York</td>\n",
       "      <td>1</td>\n",
       "      <td>MN17</td>\n",
       "      <td>True</td>\n",
       "      <td>False</td>\n",
       "    </tr>\n",
       "    <tr>\n",
       "      <th>4</th>\n",
       "      <td>1002</td>\n",
       "      <td>MN</td>\n",
       "      <td>Free</td>\n",
       "      <td>LinkNYC - Citybridge</td>\n",
       "      <td>40.760413</td>\n",
       "      <td>-73.984541</td>\n",
       "      <td>Outdoor Kiosk</td>\n",
       "      <td>New York</td>\n",
       "      <td>1</td>\n",
       "      <td>MN17</td>\n",
       "      <td>True</td>\n",
       "      <td>False</td>\n",
       "    </tr>\n",
       "  </tbody>\n",
       "</table>\n",
       "</div>"
      ],
      "text/plain": [
       "   OBJECTID Borough  Type              Provider   Latitude  Longitude  \\\n",
       "0       998      MN  Free  LinkNYC - Citybridge  40.745968 -73.994039   \n",
       "1       999      MN  Free  LinkNYC - Citybridge  40.744614 -73.985069   \n",
       "2      1000      MN  Free  LinkNYC - Citybridge  40.757666 -73.985878   \n",
       "3      1001      MN  Free  LinkNYC - Citybridge  40.759971 -73.984342   \n",
       "4      1002      MN  Free  LinkNYC - Citybridge  40.760413 -73.984541   \n",
       "\n",
       "      Location_T      City  BoroCode NTACode  free_wifi  Outdoor_Location_T  \n",
       "0  Outdoor Kiosk  New York         1    MN17       True               False  \n",
       "1  Outdoor Kiosk  New York         1    MN17       True               False  \n",
       "2  Outdoor Kiosk  New York         1    MN17       True               False  \n",
       "3  Outdoor Kiosk  New York         1    MN17       True               False  \n",
       "4  Outdoor Kiosk  New York         1    MN17       True               False  "
      ]
     },
     "execution_count": 474,
     "metadata": {},
     "output_type": "execute_result"
    }
   ],
   "source": [
    "df_wifi['Outdoor_Location_T']= (df_wifi['Location_T']=='Outdoor')\n",
    "df_wifi.head()"
   ]
  },
  {
   "cell_type": "code",
   "execution_count": 483,
   "id": "63f09b3d",
   "metadata": {},
   "outputs": [
    {
     "data": {
      "text/plain": [
       "<AxesSubplot:xlabel='Provider,free_wifi'>"
      ]
     },
     "execution_count": 483,
     "metadata": {},
     "output_type": "execute_result"
    },
    {
     "data": {
      "image/png": "[encoded data removed]",
      "text/plain": [
       "<Figure size 432x288 with 1 Axes>"
      ]
     },
     "metadata": {
      "needs_background": "light"
     },
     "output_type": "display_data"
    }
   ],
   "source": [
    "df_wifi.groupby(['Provider','free_wifi']).Outdoor_Location_T.sum().plot.bar()\n",
    "# Harlem is highest free outdoor wifi provider"
   ]
  }
 ],
 "metadata": {
  "kernelspec": {
   "display_name": "Python 3",
   "language": "python",
   "name": "python3"
  },
  "language_info": {
   "codemirror_mode": {
    "name": "ipython",
    "version": 3
   },
   "file_extension": ".py",
   "mimetype": "text/x-python",
   "name": "python",
   "nbconvert_exporter": "python",
   "pygments_lexer": "ipython3",
   "version": "3.8.8"
  }
 },
 "nbformat": 4,
 "nbformat_minor": 5
}
